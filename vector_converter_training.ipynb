{
 "cells": [
  {
   "cell_type": "code",
   "execution_count": 5,
   "id": "c607b3b6-b197-4c8e-9956-b51d99887e40",
   "metadata": {},
   "outputs": [],
   "source": [
    "# Disable warnings\n",
    "import warnings\n",
    "warnings.filterwarnings(\"ignore\")\n",
    "\n",
    "# Import pyplot from matplotlib\n",
    "import matplotlib.pyplot as plt\n",
    "\n",
    "# Import TensorFlow & Keras \n",
    "import tensorflow as tf\n",
    "import tensorflow_addons as tfa\n",
    "from tensorflow import keras\n",
    "from tensorflow.keras import layers\n",
    "from tensorflow.keras.preprocessing import image as image_preprocessing\n",
    "import tensorflow.keras.backend as tf_backend \n",
    "tf_backend.set_image_data_format('channels_last')\n",
    "\n",
    "# Import all other needed packages\n",
    "import numpy as np\n",
    "import csv\n",
    "from PIL import Image\n",
    "\n",
    "%matplotlib inline"
   ]
  },
  {
   "cell_type": "code",
   "execution_count": 7,
   "id": "fdaa801f-d93d-4468-a04e-1012c892576f",
   "metadata": {},
   "outputs": [],
   "source": [
    "# Reading data from the table\n",
    "\n",
    "import csv\n",
    "\n",
    "# Forming feature vectors dictionary\n",
    "feature_vectors_dictionary = {}\n",
    "\n",
    "with open('./output/keras_facenet_feature_vectors.csv') as csvfile:\n",
    "    reader = csv.reader(csvfile, delimiter=',')\n",
    "    for i, row in enumerate(reader):\n",
    "        if i == 0:\n",
    "            continue\n",
    "        \n",
    "        person_id = int(float(row[0]))\n",
    "        feature_vector = np.array(row[2:])\n",
    "        feature_vector = feature_vector.astype(np.float)\n",
    "        \n",
    "        if person_id not in feature_vectors_dictionary:\n",
    "            feature_vectors_dictionary[person_id] = [feature_vector]\n",
    "            continue\n",
    "            \n",
    "        feature_vectors_dictionary[person_id].append(feature_vector)\n",
    "\n",
    "dictionary_values = list(feature_vectors_dictionary.values()) \n",
    "        \n",
    "# Finding minimal array size\n",
    "min_array_length = int(1e10)\n",
    "for value in dictionary_values:\n",
    "    min_array_length = min(min_array_length, len(value))\n",
    "\n",
    "# Forming tensorflow and numpy arrays\n",
    "feature_vector_batches_np = []\n",
    "feature_vector_batches_tf = []\n",
    "\n",
    "for value in list(feature_vectors_dictionary.values()):\n",
    "    value_np = np.array(value[:min_array_length])\n",
    "    feature_vector_batches_np.append(value_np)\n",
    "    feature_vector_batches_tf.append(tf.convert_to_tensor(value_np))\n",
    "    \n",
    "feature_vector_batches_tf = tf.stack(feature_vector_batches_tf)"
   ]
  },
  {
   "cell_type": "code",
   "execution_count": 8,
   "id": "94851b2e-34df-4d67-b757-210cdefff6f3",
   "metadata": {},
   "outputs": [
    {
     "name": "stdout",
     "output_type": "stream",
     "text": [
      "Test output shape: (26, 128)\n",
      "Model: \"sequential_1\"\n",
      "_________________________________________________________________\n",
      " Layer (type)                Output Shape              Param #   \n",
      "=================================================================\n",
      " dense_layer_1 (Dense)       (None, 128)               16512     \n",
      "                                                                 \n",
      " dense_layer_2 (Dense)       (None, 128)               16512     \n",
      "                                                                 \n",
      " dense_layer_3 (Dense)       (None, 128)               16512     \n",
      "                                                                 \n",
      "=================================================================\n",
      "Total params: 49,536\n",
      "Trainable params: 49,536\n",
      "Non-trainable params: 0\n",
      "_________________________________________________________________\n"
     ]
    }
   ],
   "source": [
    "# Model would consist of 3 dense layers of the same length as of feature vectors\n",
    "def init_model():\n",
    "    return keras.Sequential([\n",
    "        layers.Dense(128, input_shape=(128,), activation=\"relu\", name=\"dense_layer_1\"),\n",
    "        layers.Dense(128, activation=\"relu\", name=\"dense_layer_2\"),\n",
    "        layers.Dense(128, name=\"dense_layer_3\"),\n",
    "    ])\n",
    "\n",
    "# Initializing a model\n",
    "model = init_model()\n",
    "\n",
    "# Testing on a batch of inputs\n",
    "test_output = model(feature_vector_batches_tf[0])\n",
    "print('Test output shape:', test_output.shape)\n",
    "\n",
    "# Providing a summary\n",
    "model.summary()"
   ]
  },
  {
   "cell_type": "code",
   "execution_count": null,
   "id": "d9d52a99-67e8-4ad1-80b4-14a673e5e858",
   "metadata": {},
   "outputs": [],
   "source": [
    "class Triplet_Loss(tf.keras.losses.Loss):\n",
    "    def __init__(self):\n",
    "        super().__init__()\n",
    "    def call(self, y_true, y_pred):        \n",
    "        log_y_pred = tf.math.log(y_pred)\n",
    "        elements = -tf.math.multiply_no_nan(x=log_y_pred, y=y_true)\n",
    "        return tf.reduce_mean(tf.reduce_sum(elements,axis=1))"
   ]
  },
  {
   "cell_type": "code",
   "execution_count": 10,
   "id": "be50f621-3ae6-4dac-b52c-fd4a9ed3684a",
   "metadata": {},
   "outputs": [
    {
     "name": "stdout",
     "output_type": "stream",
     "text": [
      "Epoch 1/5\n"
     ]
    },
    {
     "ename": "ValueError",
     "evalue": "in user code:\n\n    File \"/home/dima/.conda/envs/newest/lib/python3.10/site-packages/keras/engine/training.py\", line 1021, in train_function  *\n        return step_function(self, iterator)\n    File \"/home/dima/.conda/envs/newest/lib/python3.10/site-packages/keras/engine/training.py\", line 1010, in step_function  **\n        outputs = model.distribute_strategy.run(run_step, args=(data,))\n    File \"/home/dima/.conda/envs/newest/lib/python3.10/site-packages/keras/engine/training.py\", line 1000, in run_step  **\n        outputs = model.train_step(data)\n    File \"/home/dima/.conda/envs/newest/lib/python3.10/site-packages/keras/engine/training.py\", line 861, in train_step\n        self._validate_target_and_loss(y, loss)\n    File \"/home/dima/.conda/envs/newest/lib/python3.10/site-packages/keras/engine/training.py\", line 818, in _validate_target_and_loss\n        raise ValueError(\n\n    ValueError: Target data is missing. Your model was compiled with loss=<tensorflow_addons.losses.triplet.TripletSemiHardLoss object at 0x7f598c6b1480>, and therefore expects target data to be provided in `fit()`.\n",
     "output_type": "error",
     "traceback": [
      "\u001b[0;31m---------------------------------------------------------------------------\u001b[0m",
      "\u001b[0;31mValueError\u001b[0m                                Traceback (most recent call last)",
      "Input \u001b[0;32mIn [10]\u001b[0m, in \u001b[0;36m<cell line: 5>\u001b[0;34m()\u001b[0m\n\u001b[1;32m      1\u001b[0m model\u001b[38;5;241m.\u001b[39mcompile(\n\u001b[1;32m      2\u001b[0m     optimizer\u001b[38;5;241m=\u001b[39mtf\u001b[38;5;241m.\u001b[39mkeras\u001b[38;5;241m.\u001b[39moptimizers\u001b[38;5;241m.\u001b[39mAdam(\u001b[38;5;241m0.001\u001b[39m),\n\u001b[1;32m      3\u001b[0m     loss\u001b[38;5;241m=\u001b[39mtfa\u001b[38;5;241m.\u001b[39mlosses\u001b[38;5;241m.\u001b[39mTripletSemiHardLoss())\n\u001b[0;32m----> 5\u001b[0m history \u001b[38;5;241m=\u001b[39m \u001b[43mmodel\u001b[49m\u001b[38;5;241;43m.\u001b[39;49m\u001b[43mfit\u001b[49m\u001b[43m(\u001b[49m\n\u001b[1;32m      6\u001b[0m \u001b[43m    \u001b[49m\u001b[43mfeature_vector_batches_tf\u001b[49m\u001b[43m[\u001b[49m\u001b[38;5;241;43m0\u001b[39;49m\u001b[43m]\u001b[49m\u001b[43m,\u001b[49m\n\u001b[1;32m      7\u001b[0m \u001b[43m    \u001b[49m\u001b[43mepochs\u001b[49m\u001b[38;5;241;43m=\u001b[39;49m\u001b[38;5;241;43m5\u001b[39;49m\u001b[43m)\u001b[49m\n",
      "File \u001b[0;32m~/.conda/envs/newest/lib/python3.10/site-packages/keras/utils/traceback_utils.py:67\u001b[0m, in \u001b[0;36mfilter_traceback.<locals>.error_handler\u001b[0;34m(*args, **kwargs)\u001b[0m\n\u001b[1;32m     65\u001b[0m \u001b[38;5;28;01mexcept\u001b[39;00m \u001b[38;5;167;01mException\u001b[39;00m \u001b[38;5;28;01mas\u001b[39;00m e:  \u001b[38;5;66;03m# pylint: disable=broad-except\u001b[39;00m\n\u001b[1;32m     66\u001b[0m   filtered_tb \u001b[38;5;241m=\u001b[39m _process_traceback_frames(e\u001b[38;5;241m.\u001b[39m__traceback__)\n\u001b[0;32m---> 67\u001b[0m   \u001b[38;5;28;01mraise\u001b[39;00m e\u001b[38;5;241m.\u001b[39mwith_traceback(filtered_tb) \u001b[38;5;28;01mfrom\u001b[39;00m \u001b[38;5;28mNone\u001b[39m\n\u001b[1;32m     68\u001b[0m \u001b[38;5;28;01mfinally\u001b[39;00m:\n\u001b[1;32m     69\u001b[0m   \u001b[38;5;28;01mdel\u001b[39;00m filtered_tb\n",
      "File \u001b[0;32m~/.conda/envs/newest/lib/python3.10/site-packages/tensorflow/python/framework/func_graph.py:1147\u001b[0m, in \u001b[0;36mfunc_graph_from_py_func.<locals>.autograph_handler\u001b[0;34m(*args, **kwargs)\u001b[0m\n\u001b[1;32m   1145\u001b[0m \u001b[38;5;28;01mexcept\u001b[39;00m \u001b[38;5;167;01mException\u001b[39;00m \u001b[38;5;28;01mas\u001b[39;00m e:  \u001b[38;5;66;03m# pylint:disable=broad-except\u001b[39;00m\n\u001b[1;32m   1146\u001b[0m   \u001b[38;5;28;01mif\u001b[39;00m \u001b[38;5;28mhasattr\u001b[39m(e, \u001b[38;5;124m\"\u001b[39m\u001b[38;5;124mag_error_metadata\u001b[39m\u001b[38;5;124m\"\u001b[39m):\n\u001b[0;32m-> 1147\u001b[0m     \u001b[38;5;28;01mraise\u001b[39;00m e\u001b[38;5;241m.\u001b[39mag_error_metadata\u001b[38;5;241m.\u001b[39mto_exception(e)\n\u001b[1;32m   1148\u001b[0m   \u001b[38;5;28;01melse\u001b[39;00m:\n\u001b[1;32m   1149\u001b[0m     \u001b[38;5;28;01mraise\u001b[39;00m\n",
      "\u001b[0;31mValueError\u001b[0m: in user code:\n\n    File \"/home/dima/.conda/envs/newest/lib/python3.10/site-packages/keras/engine/training.py\", line 1021, in train_function  *\n        return step_function(self, iterator)\n    File \"/home/dima/.conda/envs/newest/lib/python3.10/site-packages/keras/engine/training.py\", line 1010, in step_function  **\n        outputs = model.distribute_strategy.run(run_step, args=(data,))\n    File \"/home/dima/.conda/envs/newest/lib/python3.10/site-packages/keras/engine/training.py\", line 1000, in run_step  **\n        outputs = model.train_step(data)\n    File \"/home/dima/.conda/envs/newest/lib/python3.10/site-packages/keras/engine/training.py\", line 861, in train_step\n        self._validate_target_and_loss(y, loss)\n    File \"/home/dima/.conda/envs/newest/lib/python3.10/site-packages/keras/engine/training.py\", line 818, in _validate_target_and_loss\n        raise ValueError(\n\n    ValueError: Target data is missing. Your model was compiled with loss=<tensorflow_addons.losses.triplet.TripletSemiHardLoss object at 0x7f598c6b1480>, and therefore expects target data to be provided in `fit()`.\n"
     ]
    }
   ],
   "source": [
    "model.compile(\n",
    "    optimizer=tf.keras.optimizers.Adam(0.001),\n",
    "    loss=tfa.losses.TripletSemiHardLoss())\n",
    "\n",
    "history = model.fit(\n",
    "    feature_vector_batches_tf,\n",
    "    epochs=5)"
   ]
  }
 ],
 "metadata": {
  "kernelspec": {
   "display_name": "newest",
   "language": "python",
   "name": "newest"
  },
  "language_info": {
   "codemirror_mode": {
    "name": "ipython",
    "version": 3
   },
   "file_extension": ".py",
   "mimetype": "text/x-python",
   "name": "python",
   "nbconvert_exporter": "python",
   "pygments_lexer": "ipython3",
   "version": "3.10.4"
  }
 },
 "nbformat": 4,
 "nbformat_minor": 5
}
