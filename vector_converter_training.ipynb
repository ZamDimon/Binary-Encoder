{
 "cells": [
  {
   "cell_type": "markdown",
   "id": "65b61a77-ace2-4e13-a51e-b7f87babbb45",
   "metadata": {},
   "source": [
    "# Vector Converter"
   ]
  },
  {
   "cell_type": "markdown",
   "id": "acc86a5b-110b-4e8a-b79e-2547ec12020a",
   "metadata": {},
   "source": [
    "## Step 1. Import needed packages\n",
    "\n",
    "Importing all the packages we need for our model"
   ]
  },
  {
   "cell_type": "code",
   "execution_count": 22,
   "id": "c607b3b6-b197-4c8e-9956-b51d99887e40",
   "metadata": {},
   "outputs": [],
   "source": [
    "# Disable warnings\n",
    "import warnings\n",
    "warnings.filterwarnings(\"ignore\")\n",
    "\n",
    "# Import pyplot from matplotlib\n",
    "import matplotlib.pyplot as plt\n",
    "\n",
    "# Import TensorFlow & Keras \n",
    "import tensorflow as tf\n",
    "import tensorflow_addons as tfa\n",
    "from tensorflow import keras\n",
    "from tensorflow.keras import layers\n",
    "import tensorflow.keras.backend as tf_backend \n",
    "from tensorflow.keras.optimizers import Adam\n",
    "from tensorflow.keras.callbacks import Callback, CSVLogger, ModelCheckpoint\n",
    "\n",
    "# Import all other needed packages\n",
    "import numpy as np\n",
    "import csv\n",
    "from PIL import Image\n",
    "import random\n",
    "import os\n",
    "import json\n",
    "\n",
    "%matplotlib inline"
   ]
  },
  {
   "cell_type": "markdown",
   "id": "3d11dd4b-850b-41b1-9376-379787551392",
   "metadata": {},
   "source": [
    "## Step 2. Generate train & test datasets\n",
    "\n",
    "Given the dataset $\\mathcal{D} = \\{ \\{\\mathbf{x}_k\\}_{k=1}^M, \\{y_k\\}_{k=1}^M \\}$ we split it into two other datasets:\n",
    "\n",
    "$$\n",
    "\\mathcal{D}_{\\text{train}} = \\{ \\{ \\mathbf{x}_k\\}_{k=1}^{\\lfloor\\eta M\\rfloor}, \\{y_k\\}_{k=1}^{\\lfloor\\eta M\\rfloor} \\} \n",
    "$$\n",
    "$$\n",
    "\\mathcal{D}_{\\text{test}} = \\{ \\{ \\mathbf{x}_k \\}_{k=\\lceil\\eta M\\rceil}^{M}, \\{y_k\\}_{k=\\lceil\\eta M\\rceil}^{M} \\}\n",
    "$$\n",
    "\n",
    "Where $\\eta = 0.8$ is a proportion we allocate for a train part of the dataset"
   ]
  },
  {
   "cell_type": "markdown",
   "id": "a03e546d",
   "metadata": {},
   "source": [
    "Here we simply import our $\\texttt{csv}$ file and import all the vectors into $\\texttt{feature_vector_batches_np}$, $\\texttt{feature_vector_batches_tf}$, and $\\texttt{labels}$."
   ]
  },
  {
   "cell_type": "code",
   "execution_count": 24,
   "id": "fdaa801f-d93d-4468-a04e-1012c892576f",
   "metadata": {},
   "outputs": [],
   "source": [
    "# Forming feature vectors dictionary\n",
    "feature_vectors_dictionary = {}\n",
    "\n",
    "with open('./csv_datasets/keras_facenet_feature_vectors.csv') as csvfile:\n",
    "    reader = csv.reader(csvfile, delimiter=',')\n",
    "    for i, row in enumerate(reader):\n",
    "        if i == 0:\n",
    "            continue\n",
    "        \n",
    "        person_id = int(float(row[0]))\n",
    "        feature_vector = np.array(row[2:])\n",
    "        feature_vector = feature_vector.astype(np.float)\n",
    "        \n",
    "        if person_id not in feature_vectors_dictionary:\n",
    "            feature_vectors_dictionary[person_id] = [feature_vector]\n",
    "            continue\n",
    "            \n",
    "        feature_vectors_dictionary[person_id].append(feature_vector)\n",
    "\n",
    "dictionary_values = list(feature_vectors_dictionary.values()) \n",
    "        \n",
    "# Finding minimal array size\n",
    "min_array_length = int(1e10)\n",
    "for value in dictionary_values:\n",
    "    min_array_length = min(min_array_length, len(value))\n",
    "\n",
    "# Forming tensorflow and numpy arrays\n",
    "feature_vector_batches_np = []\n",
    "feature_vector_batches_tf = []\n",
    "labels = []\n",
    "\n",
    "for key in feature_vectors_dictionary:\n",
    "    value = feature_vectors_dictionary[key]\n",
    "    value_np = np.array(value[:min_array_length])\n",
    "    labels.extend([key] * min_array_length)\n",
    "    feature_vector_batches_np.extend(value_np)\n",
    "    feature_vector_batches_tf.extend(tf.convert_to_tensor(value_np))"
   ]
  },
  {
   "cell_type": "markdown",
   "id": "f51140ad",
   "metadata": {},
   "source": [
    "Then we shuffle $\\texttt{feature_vector_batches_np}$, $\\texttt{feature_vector_batches_tf}$, and $\\texttt{labels}$ together "
   ]
  },
  {
   "cell_type": "code",
   "execution_count": 25,
   "id": "af8ccf93-2851-407b-9e42-a40b0657d47f",
   "metadata": {},
   "outputs": [],
   "source": [
    "# Shuffle two lists\n",
    "temp = list(zip(feature_vector_batches_np, feature_vector_batches_tf, labels))\n",
    "random.shuffle(temp)\n",
    "temp_batches_np, temp_batches_tf, temp_labels = zip(*temp)\n",
    "feature_vector_batches_np, feature_vector_batches_tf, labels = list(temp_batches_np), list(temp_batches_tf), list(temp_labels)\n",
    "\n",
    "feature_vector_batches_tf = tf.stack(feature_vector_batches_tf)"
   ]
  },
  {
   "cell_type": "markdown",
   "id": "eaa2f509",
   "metadata": {},
   "source": [
    "Just to make sure our code is properly written, we define the distance function $d_f(\\mathbf{x}_1,\\mathbf{x}_2) = \\| \\mathbf{x}_1 - \\mathbf{x}_2\\|_2^2$.\n",
    "Then we take the first element in $\\texttt{feature_vector_batches_tf}$ and find $\\texttt{negative}+\\texttt{positive}$ elements in it, which basically correspond to a feature vector of different and the same person, respectively. Distance between our anchor and $\\texttt{positive}$ must be smaller than anchor and $\\texttt{negative}$. "
   ]
  },
  {
   "cell_type": "code",
   "execution_count": 26,
   "id": "c05ceac7",
   "metadata": {},
   "outputs": [
    {
     "name": "stdout",
     "output_type": "stream",
     "text": [
      "Anchor, Negative, and Positive labels are 119, 200, and 119\n",
      "Distance between anchor and negative is 253.54916264945064\n",
      "Distance between anchor and positive is 39.437943012123455\n"
     ]
    }
   ],
   "source": [
    "# Test shuffling\n",
    "def euclidean_distance(f1, f2):\n",
    "    return tf.reduce_sum(tf.square(f1-f2), axis=0)\n",
    "\n",
    "anchor, anchor_label = feature_vector_batches_tf[0], labels[0]\n",
    "\n",
    "positive_id, negative_id = -1, -1 \n",
    "for i, vector in enumerate(feature_vector_batches_np):\n",
    "    if i == 0:\n",
    "        continue\n",
    "    if positive_id >= 0 and negative_id >= 0:\n",
    "        break\n",
    "    if labels[i] != anchor_label and negative_id == -1:\n",
    "        negative_id = i\n",
    "    if labels[i] == anchor_label and positive_id == -1:\n",
    "        positive_id = i\n",
    "\n",
    "negative, positive = feature_vector_batches_tf[negative_id], feature_vector_batches_tf[positive_id]\n",
    "negative_label, positive_label = labels[negative_id], labels[positive_id]\n",
    "        \n",
    "print('Anchor, Negative, and Positive labels are {}, {}, and {}'.format(anchor_label, negative_label, positive_label))\n",
    "print('Distance between anchor and negative is {}'.format(euclidean_distance(anchor, negative)))\n",
    "print('Distance between anchor and positive is {}'.format(euclidean_distance(anchor, positive)))    "
   ]
  },
  {
   "cell_type": "markdown",
   "id": "4b6c8ede",
   "metadata": {},
   "source": [
    "Then divide the dataset into $X_{\\text{train}}, Y_{\\text{train}}$ - a set of train vectors and labels, and $X_{\\text{test}}, Y_{\\text{test}}$ - a set of test vectors and labels."
   ]
  },
  {
   "cell_type": "code",
   "execution_count": 27,
   "id": "c2cbe7da",
   "metadata": {},
   "outputs": [
    {
     "name": "stdout",
     "output_type": "stream",
     "text": [
      "Total dataset length: 5512\n",
      "Length of a train dataset: 4409\n",
      "Length of a test dataset: 1103\n"
     ]
    }
   ],
   "source": [
    "# Splitting into training and test sets\n",
    "total_dataset_length = len(labels)\n",
    "test_proportion = 0.8\n",
    "train_length = int(test_proportion * total_dataset_length)\n",
    "\n",
    "X_train = feature_vector_batches_tf[:train_length]\n",
    "Y_train = labels[:train_length]\n",
    "\n",
    "X_test = feature_vector_batches_tf[train_length:]\n",
    "Y_test = labels[train_length:]\n",
    "\n",
    "num_classes = len(np.unique(Y_train))\n",
    "\n",
    "print('Total dataset length: {}'.format(total_dataset_length))\n",
    "print('Length of a train dataset: {}'.format(len(X_train)))\n",
    "print('Length of a test dataset: {}'.format(len(X_test)))"
   ]
  },
  {
   "cell_type": "markdown",
   "id": "847e49eb-3b65-4ab0-93bd-a2b723d981fc",
   "metadata": {},
   "source": [
    "## Step 3. Define distance function\n",
    "\n",
    "Continuous binary distance is defined as follows:\n",
    "$$\n",
    "\\hat{\\delta}(\\mathbf{x}, \\mathbf{y}) = \\frac{1}{N}\\sum_{k=1}^N |x_k - y_k|\n",
    "$$"
   ]
  },
  {
   "cell_type": "code",
   "execution_count": 28,
   "id": "3524c9ce-2415-451c-b25c-13e12f524c6b",
   "metadata": {},
   "outputs": [
    {
     "name": "stdout",
     "output_type": "stream",
     "text": [
      "tf.Tensor(0.25, shape=(), dtype=float32)\n",
      "tf.Tensor([0. 1. 0. 0. 1.], shape=(5,), dtype=float32)\n"
     ]
    }
   ],
   "source": [
    "def binary_distance(x,y):\n",
    "    return tf.reduce_mean(tf.abs(x-y),axis=0)\n",
    "\n",
    "# Check binary distance formula\n",
    "s1 = tf.constant([0.0, 0.0, 1.0, 1.0])\n",
    "s2 = tf.constant([0.0, 0.0, 1.0, 0.0])\n",
    "print(binary_distance(s1, s2))\n",
    "\n",
    "def convert_to_binary_string(x):\n",
    "    return tf.where(tf.less(x, 0.5), 0.0, 1.0)\n",
    "\n",
    "x = tf.constant([0.001, 0.98, 0.1, 0.2, 0.78])\n",
    "print(convert_to_binary_string(x))"
   ]
  },
  {
   "cell_type": "markdown",
   "id": "97dfa1d7-abb6-406a-aa8d-23e17cf3d5c0",
   "metadata": {},
   "source": [
    "## Step 4. Creating functions to create batches & triplets"
   ]
  },
  {
   "cell_type": "code",
   "execution_count": 29,
   "id": "379b14b0-4d60-482b-a014-94714987a946",
   "metadata": {},
   "outputs": [],
   "source": [
    "def create_batch(batch_size=256, split = \"train\"):\n",
    "    x_anchors = np.zeros((batch_size, 128))\n",
    "    x_positives = np.zeros((batch_size, 128))\n",
    "    x_negatives = np.zeros((batch_size, 128))\n",
    "    \n",
    "    if split == \"train\":\n",
    "        data = X_train\n",
    "        data_y = Y_train\n",
    "    elif split == \"test\":\n",
    "        data = X_test\n",
    "        data_y = Y_test\n",
    "    \n",
    "    for i in range(0, batch_size):\n",
    "        # We need to find an anchor, a positive example and a negative example\n",
    "        random_index = random.randint(0, data.shape[0] - 1)\n",
    "        x_anchor = data[random_index]\n",
    "        y = data_y[random_index]\n",
    "        \n",
    "        indices_for_pos = [index for index in data_y if index == y]\n",
    "        indices_for_neg = [index for index in data_y if index != y]\n",
    "        \n",
    "        x_positive = data[indices_for_pos[random.randint(0, len(indices_for_pos) - 1)]]\n",
    "        x_negative = data[indices_for_neg[random.randint(0, len(indices_for_neg) - 1)]]\n",
    "        \n",
    "        x_anchors[i] = x_anchor\n",
    "        x_positives[i] = x_positive\n",
    "        x_negatives[i] = x_negative\n",
    "        \n",
    "    return [x_anchors, x_positives, x_negatives]"
   ]
  },
  {
   "cell_type": "code",
   "execution_count": 30,
   "id": "ea6c2ad5-80a5-4d47-8522-e7f9ca03abb9",
   "metadata": {},
   "outputs": [],
   "source": [
    "def create_hard_batch(batch_size, num_hard, split=\"train\"):\n",
    "    x_anchors = np.zeros((batch_size, 128))\n",
    "    x_positives = np.zeros((batch_size, 128))\n",
    "    x_negatives = np.zeros((batch_size, 128))\n",
    "    \n",
    "    if split == \"train\":\n",
    "        data = X_train\n",
    "        data_y = Y_train\n",
    "    elif split == \"test\":\n",
    "        data = X_test\n",
    "        data_y = Y_test\n",
    "    \n",
    "    # Generate num_hard number of hard examples:\n",
    "    hard_batches = [] \n",
    "    batch_losses = []\n",
    "    rand_batches = []\n",
    "    \n",
    "    # Get some random batches\n",
    "    for i in range(0, batch_size):\n",
    "        hard_batches.append(create_batch(1, split))\n",
    "        \n",
    "        A_emb = embedding_model.predict(hard_batches[i][0])\n",
    "        P_emb = embedding_model.predict(hard_batches[i][1])\n",
    "        N_emb = embedding_model.predict(hard_batches[i][2])\n",
    "        \n",
    "        # Compute d(A, P) - d(A, N) for each selected batch\n",
    "        batch_loss = binary_distance(A_emb[0], P_emb[0]) - binary_distance(A_emb[0], N_emb[0])\n",
    "        batch_losses.append(batch_loss)\n",
    "    \n",
    "    # Sort batch_loss by distance, highest first, and keep num_hard of them\n",
    "    zipped = zip(batch_losses, hard_batches)\n",
    "    hard_batch_selections = [x for _, x in sorted(zipped, key=lambda x: x[0])]\n",
    "    hard_batches = hard_batch_selections[:num_hard]\n",
    "    \n",
    "    # Get batch_size - num_hard number of random examples\n",
    "    num_rand = batch_size - num_hard\n",
    "    for i in range(0, num_rand):\n",
    "        rand_batch = create_batch(1, split)\n",
    "        rand_batches.append(rand_batch)\n",
    "    \n",
    "    selections = hard_batches + rand_batches\n",
    "    \n",
    "    for i in range(0, len(selections)):\n",
    "        x_anchors[i] = selections[i][0]\n",
    "        x_positives[i] = selections[i][1]\n",
    "        x_negatives[i] = selections[i][2]\n",
    "        \n",
    "    return [x_anchors, x_positives, x_negatives]"
   ]
  },
  {
   "cell_type": "markdown",
   "id": "b132038b-296c-48ff-8ed3-80d33c124873",
   "metadata": {},
   "source": [
    "## Step 5. Creating SNN"
   ]
  },
  {
   "cell_type": "markdown",
   "id": "ea9a605f",
   "metadata": {},
   "source": [
    "### Custom activation"
   ]
  },
  {
   "cell_type": "code",
   "execution_count": 31,
   "id": "94851b2e-34df-4d67-b757-210cdefff6f3",
   "metadata": {},
   "outputs": [],
   "source": [
    "from tensorflow.keras.regularizers import l2\n",
    "\n",
    "# Model would consist of 3 dense layers of the same length as of feature vectors\n",
    "def init_embedding_model():\n",
    "    embedding_model = keras.Sequential([\n",
    "        layers.Dense(\n",
    "            20,\n",
    "            input_shape=(128,),\n",
    "            activation='relu',\n",
    "            name='input_layer',\n",
    "            kernel_initializer='he_uniform',\n",
    "            kernel_regularizer=l2(1e-3)),\n",
    "        layers.Dense(\n",
    "            128,  \n",
    "            name=\"output_layer\",\n",
    "            activation = lambda x: 1/(1+tf.math.exp(-20.0*x)))\n",
    "    ])\n",
    "    \n",
    "    embedding_model.summary()\n",
    "    return embedding_model\n",
    "\n",
    "def init_snn(embedding_model):\n",
    "    input_anchor = layers.Input(shape=(128,))\n",
    "    input_positive = layers.Input(shape=(128,))\n",
    "    input_negative = layers.Input(shape=(128,))\n",
    "\n",
    "    embedding_anchor = embedding_model(input_anchor)\n",
    "    embedding_positive = embedding_model(input_positive)\n",
    "    embedding_negative = embedding_model(input_negative)\n",
    "\n",
    "    output = layers.concatenate([embedding_anchor, embedding_positive, embedding_negative], axis=1)\n",
    "    \n",
    "    siamese_net = keras.models.Model([input_anchor, input_positive, input_negative], output)\n",
    "    siamese_net.summary()\n",
    "    \n",
    "    return siamese_net"
   ]
  },
  {
   "cell_type": "markdown",
   "id": "82320c68",
   "metadata": {},
   "source": [
    "Epsilon-loss\n",
    "\n",
    "$$\n",
    "\\mathcal{L}_{\\epsilon}(\\mathbf{x}) = \\Lambda \\sum_{i=1}^{N} [\\epsilon - |x_i|]_+\n",
    "$$\n",
    "\n",
    "Max epsilon-loss error\n",
    "$$\n",
    "\\mathcal{L}_{\\epsilon}^{\\max} = \\Lambda \\cdot 3N \\epsilon\n",
    "$$\n",
    "We want\n",
    "$$\n",
    "\\mathcal{L}_{\\epsilon} \\approx 2\\Theta\n",
    "$$\n",
    "Therefore\n",
    "$$\n",
    "\\Lambda \\approx \\frac{2\\Theta}{3N\\epsilon}\n",
    "$$"
   ]
  },
  {
   "cell_type": "code",
   "execution_count": 32,
   "id": "e8f2dd0e",
   "metadata": {},
   "outputs": [
    {
     "name": "stdout",
     "output_type": "stream",
     "text": [
      "tf.Tensor(0.29999998, shape=(), dtype=float32)\n"
     ]
    }
   ],
   "source": [
    "alpha = 0.3\n",
    "epsilon = 0.05\n",
    "loss_amplitude = alpha/(3*128*epsilon)\n",
    "\n",
    "def epsilon_loss(x):\n",
    "    return loss_amplitude * tf.reduce_sum(tf.maximum(tf.ones((128*3,))*epsilon - tf.math.abs(x), 0))\n",
    "\n",
    "l = tf.ones(shape=(128*3,)) * (0)\n",
    "print(epsilon_loss(l))"
   ]
  },
  {
   "cell_type": "code",
   "execution_count": 34,
   "id": "5006b073-7578-4a21-abed-1a919551e014",
   "metadata": {},
   "outputs": [],
   "source": [
    "distance_loss_ratio = 0.9\n",
    "\n",
    "def combined_loss(y_true, y_pred):\n",
    "    anchor, positive, negative = y_pred[:,:128], y_pred[:,128:2*128],y_pred[:,2*128:]\n",
    "    \n",
    "    positive_distance = tf.reduce_mean(tf.math.abs(anchor - positive))\n",
    "    negative_distance = tf.reduce_mean(tf.math.abs(anchor - negative))\n",
    "    \n",
    "    distance_loss = distance_loss_ratio * tf.maximum(positive_distance - negative_distance + alpha, 0.)\n",
    "    eps_loss = (1 - distance_loss_ratio) * epsilon_loss(y_pred) \n",
    "    return distance_loss + eps_loss\n",
    "\n",
    "def triplet_loss(y_true, y_pred):\n",
    "    anchor, positive, negative = y_pred[:,:128], y_pred[:,128:2*128],y_pred[:,2*128:]\n",
    "    \n",
    "    positive_distance = tf.reduce_mean(tf.math.abs(anchor - positive))\n",
    "    negative_distance = tf.reduce_mean(tf.math.abs(anchor - negative))\n",
    "    \n",
    "    return tf.maximum(positive_distance - negative_distance + alpha, 0.)\n",
    "\n",
    "\n",
    "def epsilon_loss(y_true, y_pred):\n",
    "    anchor, positive, negative = y_pred[:,:128], y_pred[:,128:2*128],y_pred[:,2*128:]\n",
    "    return epsilon_loss(y_pred) "
   ]
  },
  {
   "cell_type": "code",
   "execution_count": 35,
   "id": "e18d2fe3-cb88-477e-b0d2-d3c02fc47b16",
   "metadata": {},
   "outputs": [],
   "source": [
    "def data_generator(batch_size=256, num_hard=50, split=\"train\"):\n",
    "    while True:\n",
    "        x = create_hard_batch(batch_size, num_hard, split)\n",
    "        y = np.zeros((batch_size, 3*128))\n",
    "        yield x, y"
   ]
  },
  {
   "cell_type": "markdown",
   "id": "e5a29796-561f-44e8-b38e-50f207e30597",
   "metadata": {},
   "source": [
    "## Step 6. Setting up for training and evaluation"
   ]
  },
  {
   "cell_type": "code",
   "execution_count": 36,
   "id": "c7fe2f3d-7cec-45ff-96de-cbefeaeee123",
   "metadata": {},
   "outputs": [
    {
     "name": "stdout",
     "output_type": "stream",
     "text": [
      "Generating embedding model... \n",
      "\n",
      "Model: \"sequential_2\"\n",
      "_________________________________________________________________\n",
      " Layer (type)                Output Shape              Param #   \n",
      "=================================================================\n",
      " input_layer (Dense)         (None, 20)                2580      \n",
      "                                                                 \n",
      " output_layer (Dense)        (None, 128)               2688      \n",
      "                                                                 \n",
      "=================================================================\n",
      "Total params: 5,268\n",
      "Trainable params: 5,268\n",
      "Non-trainable params: 0\n",
      "_________________________________________________________________\n",
      "\n",
      "Generating SNN... \n",
      "\n",
      "Model: \"model_1\"\n",
      "__________________________________________________________________________________________________\n",
      " Layer (type)                   Output Shape         Param #     Connected to                     \n",
      "==================================================================================================\n",
      " input_4 (InputLayer)           [(None, 128)]        0           []                               \n",
      "                                                                                                  \n",
      " input_5 (InputLayer)           [(None, 128)]        0           []                               \n",
      "                                                                                                  \n",
      " input_6 (InputLayer)           [(None, 128)]        0           []                               \n",
      "                                                                                                  \n",
      " sequential_2 (Sequential)      (None, 128)          5268        ['input_4[0][0]',                \n",
      "                                                                  'input_5[0][0]',                \n",
      "                                                                  'input_6[0][0]']                \n",
      "                                                                                                  \n",
      " concatenate_1 (Concatenate)    (None, 384)          0           ['sequential_2[0][0]',           \n",
      "                                                                  'sequential_2[1][0]',           \n",
      "                                                                  'sequential_2[2][0]']           \n",
      "                                                                                                  \n",
      "==================================================================================================\n",
      "Total params: 5,268\n",
      "Trainable params: 5,268\n",
      "Non-trainable params: 0\n",
      "__________________________________________________________________________________________________\n"
     ]
    }
   ],
   "source": [
    "# Hyperparams\n",
    "batch_size = 256\n",
    "epochs = 10\n",
    "steps_per_epoch = int(X_train.shape[0]/batch_size)\n",
    "val_steps = int(X_test.shape[0]/batch_size)\n",
    "alpha = 0.3\n",
    "num_hard = int(batch_size * 0.5) # Number of semi-hard triplet examples in the batch\n",
    "lr = 0.001\n",
    "optimiser = 'Adam'\n",
    "\n",
    "with tf.device(\"/cpu:0\"):\n",
    "    # Create the embedding model\n",
    "    print(\"Generating embedding model... \\n\")\n",
    "    embedding_model = init_embedding_model()\n",
    "    \n",
    "    print(\"\\nGenerating SNN... \\n\")\n",
    "    # Create the SNN\n",
    "    siamese_net = init_snn(embedding_model)\n",
    "    # Compile the SNN\n",
    "    optimiser_obj = Adam(lr = lr)\n",
    "    siamese_net.compile(loss=[triplet_loss, epsilon_loss], optimizer=optimiser_obj)"
   ]
  },
  {
   "cell_type": "markdown",
   "id": "8ae25bdf-1a85-4c86-add0-70b7feaa0123",
   "metadata": {},
   "source": [
    "## Step 7. Testing model output"
   ]
  },
  {
   "cell_type": "code",
   "execution_count": 15,
   "id": "eae52eae-0124-4bb9-aa37-02bc66b39c00",
   "metadata": {},
   "outputs": [
    {
     "name": "stdout",
     "output_type": "stream",
     "text": [
      "Prediction: [9.8511642e-01 7.5483108e-08 1.5013624e-03 4.2824540e-03 9.9995816e-01\n",
      " 7.1395785e-01 2.9228986e-09 1.4346215e-07 8.5831791e-02 3.2549873e-01]\n"
     ]
    }
   ],
   "source": [
    "X_test_converted = embedding_model.predict(X_test)\n",
    "\n",
    "print('Prediction:', X_test_converted[0][:10])"
   ]
  },
  {
   "cell_type": "code",
   "execution_count": 16,
   "id": "fe2e77f4-f927-4e33-a0df-3a98cbc860f3",
   "metadata": {},
   "outputs": [
    {
     "name": "stdout",
     "output_type": "stream",
     "text": [
      "Example triplet batch:\n",
      "Distance AP: tf.Tensor(1.1315948822448263, shape=(), dtype=float64)\n",
      "Distance AN: tf.Tensor(1.2810796184203355, shape=(), dtype=float64)\n",
      "Example semi-hard triplet batch:\n",
      "Distance AP: tf.Tensor(1.14570459688548, shape=(), dtype=float64)\n",
      "Distance AN: tf.Tensor(1.0716196739231236, shape=(), dtype=float64)\n"
     ]
    }
   ],
   "source": [
    "examples = create_batch(1)\n",
    "print(\"Example triplet batch:\")\n",
    "print(\"Distance AP:\", binary_distance(examples[0][0], examples[1][0]))\n",
    "print(\"Distance AN:\", binary_distance(examples[0][0], examples[2][0]))\n",
    "\n",
    "print(\"Example semi-hard triplet batch:\")\n",
    "# 1 example, containing 1 semi-hard\n",
    "ex_hard = create_hard_batch(2, 1, split=\"train\")\n",
    "print(\"Distance AP:\", binary_distance(ex_hard[0][0], ex_hard[1][0]))\n",
    "print(\"Distance AN:\", binary_distance(ex_hard[0][0], ex_hard[2][0]))"
   ]
  },
  {
   "cell_type": "markdown",
   "id": "d7d59eea-af69-492d-b29a-a18a9a67ed8c",
   "metadata": {},
   "source": [
    "## Step 8. Logging"
   ]
  },
  {
   "cell_type": "code",
   "execution_count": 17,
   "id": "dc91d56b-4ceb-4ed3-8cce-dfda1963d304",
   "metadata": {},
   "outputs": [
    {
     "name": "stdout",
     "output_type": "stream",
     "text": [
      "WARNING:tensorflow:`write_grads` will be ignored in TensorFlow 2.0 for the `TensorBoard` Callback.\n",
      "WARNING:tensorflow:`batch_size` is no longer needed in the `TensorBoard` Callback and will be ignored in TensorFlow 2.0.\n"
     ]
    }
   ],
   "source": [
    "# Set up logging directory\n",
    "## Use date-time as logdir name:\n",
    "#dt = datetime.now().strftime(\"%Y%m%dT%H%M\")\n",
    "#logdir = os.path.join(\"PATH/TO/LOG\",dt)\n",
    "\n",
    "## Use a custom non-dt name:\n",
    "name = \"snn-run\"\n",
    "logdir = os.path.join(\"./log\",name)\n",
    "\n",
    "if not os.path.exists(logdir):\n",
    "    os.mkdir(logdir)\n",
    "\n",
    "## Callbacks:\n",
    "# Create the TensorBoard callback\n",
    "tensorboard = tf.keras.callbacks.TensorBoard(\n",
    "    log_dir = logdir,\n",
    "    histogram_freq=0,\n",
    "    batch_size=batch_size,\n",
    "    write_graph=True,\n",
    "    write_grads=True, \n",
    "    write_images = True, \n",
    "    update_freq = 'epoch', \n",
    "    profile_batch=0\n",
    ")\n",
    "\n",
    "# Training logger\n",
    "csv_log = os.path.join(logdir, 'training.csv')\n",
    "csv_logger = CSVLogger(csv_log, separator=',', append=True)\n",
    "\n",
    "# Only save the best model weights based on the val_loss\n",
    "checkpoint = ModelCheckpoint(os.path.join(logdir, 'snn_model-{epoch:02d}-{val_loss:.2f}.h5'),\n",
    "                             monitor='val_loss', verbose=1,\n",
    "                             save_best_only=True, save_weights_only=True, \n",
    "                             mode='auto')\n",
    "\n",
    "# Save the embedding mode weights based on the main model's val loss\n",
    "# This is needed to reecreate the emebedding model should we wish to visualise\n",
    "# the latent space at the saved epoch\n",
    "class SaveEmbeddingModelWeights(Callback):\n",
    "    def __init__(self, filepath, monitor='val_loss', verbose=1):\n",
    "        super(Callback, self).__init__()\n",
    "        self.monitor = monitor\n",
    "        self.verbose = verbose\n",
    "        self.best = np.Inf\n",
    "        self.filepath = filepath\n",
    "\n",
    "    def on_epoch_end(self, epoch, logs={}):\n",
    "        current = logs.get(self.monitor)\n",
    "        if current is None:\n",
    "            warnings.warn(\"SaveEmbeddingModelWeights requires %s available!\" % self.monitor, RuntimeWarning)\n",
    "\n",
    "        if current < self.best:\n",
    "            filepath = self.filepath.format(epoch=epoch + 1, **logs)\n",
    "            if self.verbose == 1:\n",
    "                print(\"Saving embedding model weights at %s\" % filepath)\n",
    "            embedding_model.save_weights(filepath, overwrite = True)\n",
    "            self.best = current\n",
    "            \n",
    "            # Delete the last best emb_model and snn_model\n",
    "            delete_older_model_files(filepath)\n",
    "\n",
    "# Save the embedding model weights if you save a new snn best model based on the model checkpoint above\n",
    "emb_weight_saver = SaveEmbeddingModelWeights(os.path.join(logdir, 'emb_model-{epoch:02d}.h5'))\n",
    "\n",
    "\n",
    "callbacks = [tensorboard, csv_logger, checkpoint, emb_weight_saver]\n",
    "\n",
    "\n",
    "# Save model configs to JSON\n",
    "model_json = siamese_net.to_json()\n",
    "with open(os.path.join(logdir, \"siamese_config.json\"), \"w\") as json_file:\n",
    "    json_file.write(model_json)\n",
    "    json_file.close()\n",
    "    \n",
    "model_json = embedding_model.to_json()\n",
    "with open(os.path.join(logdir, \"embedding_config.json\"), \"w\") as json_file:\n",
    "    json_file.write(model_json)\n",
    "    json_file.close()\n",
    "    \n",
    "\n",
    "hyperparams = {'batch_size' : batch_size,\n",
    "              'epochs' : epochs, \n",
    "               'steps_per_epoch' : steps_per_epoch, \n",
    "               'val_steps' : val_steps, \n",
    "               'alpha' : alpha, \n",
    "               'num_hard' : num_hard, \n",
    "               'optimiser' : optimiser,\n",
    "               'lr' : lr,\n",
    "               'emb_size' : 128\n",
    "              }\n",
    "\n",
    "\n",
    "with open(os.path.join(logdir, \"hyperparams.json\"), \"w\") as json_file:\n",
    "    json.dump(hyperparams, json_file)\n",
    "    \n",
    "# Set the model to TB\n",
    "tensorboard.set_model(siamese_net)\n",
    "\n",
    "def delete_older_model_files(filepath):\n",
    "    \n",
    "    model_dir = filepath.split(\"emb_model\")[0]\n",
    "    \n",
    "    # Get model files\n",
    "    model_files = os.listdir(model_dir)\n",
    "    # Get only the emb_model files\n",
    "    emb_model_files = [file for file in model_files if \"emb_model\" in file]\n",
    "    # Get the epoch nums of the emb_model_files\n",
    "    emb_model_files_epoch_nums = [file.split(\"-\")[1].split(\".h5\")[0] for file in emb_model_files]\n",
    "\n",
    "    # Find all the snn model files\n",
    "    snn_model_files = [file for file in model_files if \"snn_model\" in file]\n",
    "\n",
    "    # Sort, get highest epoch num\n",
    "    emb_model_files_epoch_nums.sort()\n",
    "    highest_epoch_num = emb_model_files_epoch_nums[-1]\n",
    "\n",
    "    # Filter the emb_model and snn_model file lists to remove the highest epoch number ones\n",
    "    emb_model_files_without_highest = [file for file in emb_model_files if highest_epoch_num not in file]\n",
    "    snn_model_files_without_highest = [file for file in snn_model_files if highest_epoch_num not in file]\n",
    "\n",
    "    # Delete the non-highest model files from the subdir\n",
    "    if len(emb_model_files_without_highest) != 0:\n",
    "        print(\"Deleting previous best model file:\", emb_model_files_without_highest)\n",
    "        for model_file_list in [emb_model_files_without_highest, snn_model_files_without_highest]:\n",
    "            for file in model_file_list:\n",
    "                os.remove(os.path.join(model_dir, file))"
   ]
  },
  {
   "cell_type": "markdown",
   "id": "dc263b2d-31ad-4ab0-93c9-eb783bd3c36b",
   "metadata": {},
   "source": [
    "## Step 9. Training"
   ]
  },
  {
   "cell_type": "code",
   "execution_count": 17,
   "id": "97362eb7-1c54-47c6-bfa8-e8de51e13173",
   "metadata": {},
   "outputs": [
    {
     "name": "stdout",
     "output_type": "stream",
     "text": [
      "Logging out to Tensorboard at: ./log/snn-run\n",
      "Starting training process!\n",
      "-------------------------------------\n",
      "Epoch 1/18\n",
      "17/17 [==============================] - ETA: 0s - loss: 0.2864  \n",
      "Epoch 1: val_loss improved from inf to 0.30532, saving model to ./log/snn-run/snn_model-01-0.31.h5\n",
      "Saving embedding model weights at ./log/snn-run/emb_model-01.h5\n",
      "Deleting previous best model file: ['emb_model-01.h5']\n",
      "17/17 [==============================] - 1590s 99s/step - loss: 0.2864 - val_loss: 0.3053\n",
      "Epoch 2/18\n",
      "17/17 [==============================] - ETA: 0s - loss: 0.2575  \n",
      "Epoch 2: val_loss improved from 0.30532 to 0.28936, saving model to ./log/snn-run/snn_model-02-0.29.h5\n",
      "Saving embedding model weights at ./log/snn-run/emb_model-02.h5\n",
      "Deleting previous best model file: ['emb_model-02.h5']\n",
      "17/17 [==============================] - 1633s 97s/step - loss: 0.2575 - val_loss: 0.2894\n",
      "Epoch 3/18\n",
      "17/17 [==============================] - ETA: 0s - loss: 0.2340  \n",
      "Epoch 3: val_loss did not improve from 0.28936\n",
      "17/17 [==============================] - 1636s 97s/step - loss: 0.2340 - val_loss: 0.2941\n",
      "Epoch 4/18\n",
      "17/17 [==============================] - ETA: 0s - loss: 0.2050  \n",
      "Epoch 4: val_loss did not improve from 0.28936\n",
      "17/17 [==============================] - 1644s 98s/step - loss: 0.2050 - val_loss: 0.2918\n",
      "Epoch 5/18\n",
      "17/17 [==============================] - ETA: 0s - loss: 0.1832  \n",
      "Epoch 5: val_loss improved from 0.28936 to 0.27904, saving model to ./log/snn-run/snn_model-05-0.28.h5\n",
      "Saving embedding model weights at ./log/snn-run/emb_model-05.h5\n",
      "Deleting previous best model file: ['emb_model-05.h5']\n",
      "17/17 [==============================] - 1660s 99s/step - loss: 0.1832 - val_loss: 0.2790\n",
      "Epoch 6/18\n",
      "17/17 [==============================] - ETA: 0s - loss: 0.1559  \n",
      "Epoch 6: val_loss improved from 0.27904 to 0.26064, saving model to ./log/snn-run/snn_model-06-0.26.h5\n",
      "Saving embedding model weights at ./log/snn-run/emb_model-06.h5\n",
      "Deleting previous best model file: ['emb_model-06.h5']\n",
      "17/17 [==============================] - 1650s 98s/step - loss: 0.1559 - val_loss: 0.2606\n",
      "Epoch 7/18\n",
      "17/17 [==============================] - ETA: 0s - loss: 0.1395  \n",
      "Epoch 7: val_loss improved from 0.26064 to 0.25623, saving model to ./log/snn-run/snn_model-07-0.26.h5\n",
      "Saving embedding model weights at ./log/snn-run/emb_model-07.h5\n",
      "Deleting previous best model file: ['emb_model-07.h5']\n",
      "17/17 [==============================] - 1658s 99s/step - loss: 0.1395 - val_loss: 0.2562\n",
      "Epoch 8/18\n",
      "17/17 [==============================] - ETA: 0s - loss: 0.1224  \n",
      "Epoch 8: val_loss did not improve from 0.25623\n",
      "17/17 [==============================] - 1667s 99s/step - loss: 0.1224 - val_loss: 0.2577\n",
      "Epoch 9/18\n",
      "17/17 [==============================] - ETA: 0s - loss: 0.0907  \n",
      "Epoch 9: val_loss improved from 0.25623 to 0.23826, saving model to ./log/snn-run/snn_model-09-0.24.h5\n",
      "Saving embedding model weights at ./log/snn-run/emb_model-09.h5\n",
      "Deleting previous best model file: ['emb_model-09.h5']\n",
      "17/17 [==============================] - 1678s 100s/step - loss: 0.0907 - val_loss: 0.2383\n",
      "Epoch 10/18\n",
      "17/17 [==============================] - ETA: 0s - loss: 0.0742  \n",
      "Epoch 10: val_loss improved from 0.23826 to 0.23508, saving model to ./log/snn-run/snn_model-10-0.24.h5\n",
      "Saving embedding model weights at ./log/snn-run/emb_model-10.h5\n",
      "Deleting previous best model file: ['emb_model-10.h5']\n",
      "17/17 [==============================] - 1666s 99s/step - loss: 0.0742 - val_loss: 0.2351\n",
      "Epoch 11/18\n",
      "17/17 [==============================] - ETA: 0s - loss: 0.0567  \n",
      "Epoch 11: val_loss improved from 0.23508 to 0.21219, saving model to ./log/snn-run/snn_model-11-0.21.h5\n",
      "Saving embedding model weights at ./log/snn-run/emb_model-11.h5\n",
      "Deleting previous best model file: ['emb_model-11.h5']\n",
      "17/17 [==============================] - 1663s 99s/step - loss: 0.0567 - val_loss: 0.2122\n",
      "Epoch 12/18\n",
      "17/17 [==============================] - ETA: 0s - loss: 0.0421  \n",
      "Epoch 12: val_loss improved from 0.21219 to 0.20154, saving model to ./log/snn-run/snn_model-12-0.20.h5\n",
      "Saving embedding model weights at ./log/snn-run/emb_model-12.h5\n",
      "Deleting previous best model file: ['emb_model-12.h5']\n",
      "17/17 [==============================] - 1687s 100s/step - loss: 0.0421 - val_loss: 0.2015\n",
      "Epoch 13/18\n",
      "17/17 [==============================] - ETA: 0s - loss: 0.0402  \n",
      "Epoch 13: val_loss improved from 0.20154 to 0.20028, saving model to ./log/snn-run/snn_model-13-0.20.h5\n",
      "Saving embedding model weights at ./log/snn-run/emb_model-13.h5\n",
      "Deleting previous best model file: ['emb_model-13.h5']\n",
      "17/17 [==============================] - 1699s 101s/step - loss: 0.0402 - val_loss: 0.2003\n",
      "Epoch 14/18\n",
      "17/17 [==============================] - ETA: 0s - loss: 0.0356  \n",
      "Epoch 14: val_loss improved from 0.20028 to 0.18308, saving model to ./log/snn-run/snn_model-14-0.18.h5\n",
      "Saving embedding model weights at ./log/snn-run/emb_model-14.h5\n",
      "Deleting previous best model file: ['emb_model-14.h5']\n",
      "17/17 [==============================] - 1694s 101s/step - loss: 0.0356 - val_loss: 0.1831\n",
      "Epoch 15/18\n",
      "17/17 [==============================] - ETA: 0s - loss: 0.0301  \n",
      "Epoch 15: val_loss did not improve from 0.18308\n",
      "17/17 [==============================] - 1669s 99s/step - loss: 0.0301 - val_loss: 0.1881\n",
      "Epoch 16/18\n",
      "17/17 [==============================] - ETA: 0s - loss: 0.0283  \n",
      "Epoch 16: val_loss did not improve from 0.18308\n",
      "17/17 [==============================] - 1702s 101s/step - loss: 0.0283 - val_loss: 0.1850\n",
      "Epoch 17/18\n",
      "17/17 [==============================] - ETA: 0s - loss: 0.0274  \n",
      "Epoch 17: val_loss did not improve from 0.18308\n",
      "17/17 [==============================] - 1707s 101s/step - loss: 0.0274 - val_loss: 0.1962\n",
      "Epoch 18/18\n",
      "17/17 [==============================] - ETA: 0s - loss: 0.0276  "
     ]
    },
    {
     "name": "stderr",
     "output_type": "stream",
     "text": [
      "2023-01-31 10:54:50.546970: W tensorflow/core/data/root_dataset.cc:200] Optimization loop failed: CANCELLED: Operation was cancelled\n"
     ]
    },
    {
     "name": "stdout",
     "output_type": "stream",
     "text": [
      "\n",
      "Epoch 18: val_loss did not improve from 0.18308\n",
      "17/17 [==============================] - 1710s 102s/step - loss: 0.0276 - val_loss: 0.1920\n",
      "-------------------------------------\n",
      "Training complete.\n"
     ]
    }
   ],
   "source": [
    "## Training:\n",
    "print(\"Logging out to Tensorboard at:\", logdir)\n",
    "print(\"Starting training process!\")\n",
    "print(\"-------------------------------------\")\n",
    "\n",
    "siamese_net.compile(loss=triplet_loss, optimizer=optimiser_obj)\n",
    "\n",
    "siamese_history = siamese_net.fit(\n",
    "    data_generator(int(batch_size), num_hard),\n",
    "    steps_per_epoch=steps_per_epoch,\n",
    "    epochs=18,\n",
    "    verbose=1,\n",
    "    callbacks=callbacks, \n",
    "    workers = 0, \n",
    "    validation_data = data_generator(int(batch_size), num_hard, split=\"test\"), \n",
    "    validation_steps = val_steps)\n",
    "\n",
    "print(\"-------------------------------------\")\n",
    "print(\"Training complete.\")"
   ]
  },
  {
   "cell_type": "code",
   "execution_count": 35,
   "id": "0f62d4a7",
   "metadata": {},
   "outputs": [
    {
     "data": {
      "image/png": "[encoded data removed]",
      "text/plain": [
       "<Figure size 720x576 with 1 Axes>"
      ]
     },
     "metadata": {
      "needs_background": "light"
     },
     "output_type": "display_data"
    }
   ],
   "source": [
    "font = {'family' : 'serif',\n",
    "        'weight' : 'normal',\n",
    "        'size'   : 16}\n",
    "\n",
    "plt.rc('font', **font)\n",
    "figure(figsize=(10, 8))\n",
    "plt.plot(siamese_history.history['loss'], color='red')\n",
    "plt.plot(siamese_history.history['val_loss'], color='blue')\n",
    "plt.title('Model loss')\n",
    "plt.ylabel('Loss')\n",
    "plt.xlabel('Epoch')\n",
    "plt.legend(['Train', 'Validation'], loc='upper left')\n",
    "plt.grid()\n",
    "\n",
    "plt.show()"
   ]
  },
  {
   "cell_type": "code",
   "execution_count": 18,
   "id": "d02fcfc3",
   "metadata": {},
   "outputs": [
    {
     "name": "stdout",
     "output_type": "stream",
     "text": [
      "Model: \"sequential_1\"\n",
      "_________________________________________________________________\n",
      " Layer (type)                Output Shape              Param #   \n",
      "=================================================================\n",
      " input_layer (Dense)         (None, 20)                2580      \n",
      "                                                                 \n",
      " output_layer (Dense)        (None, 128)               2688      \n",
      "                                                                 \n",
      "=================================================================\n",
      "Total params: 5,268\n",
      "Trainable params: 5,268\n",
      "Non-trainable params: 0\n",
      "_________________________________________________________________\n"
     ]
    }
   ],
   "source": [
    "import os\n",
    "\n",
    "def json_to_dict(json_src):\n",
    "    with open(json_src, 'r') as j:\n",
    "        return json.loads(j.read())\n",
    "      \n",
    "## Load in best trained SNN and emb model\n",
    "\n",
    "# The best performing model weights has the higher epoch number due to only saving the best weights\n",
    "highest_epoch = 0\n",
    "dir_list = os.listdir(logdir)\n",
    "\n",
    "for file in dir_list:\n",
    "    if file.endswith(\".h5\"):\n",
    "        epoch_num = int(file.split(\"-\")[1].split(\".h5\")[0])\n",
    "        if epoch_num > highest_epoch:\n",
    "            highest_epoch = epoch_num\n",
    "\n",
    "# Find the embedding and SNN weights src for the highest_epoch (best) model\n",
    "for file in dir_list:\n",
    "    # Zfill ensure a leading 0 on number < 10\n",
    "    if (\"-\" + str(highest_epoch).zfill(2)) in file:\n",
    "        if file.startswith(\"emb\"):\n",
    "            embedding_weights_src = os.path.join(logdir, file)\n",
    "        elif file.startswith(\"snn\"):\n",
    "            snn_weights_src = os.path.join(logdir, file)\n",
    "\n",
    "hyperparams = os.path.join(logdir, \"hyperparams.json\")\n",
    "snn_config = os.path.join(logdir, \"siamese_config.json\")\n",
    "emb_config = os.path.join(logdir, \"embedding_config.json\")\n",
    "\n",
    "snn_config = json_to_dict(snn_config)\n",
    "emb_config = json_to_dict(emb_config)\n",
    "\n",
    "# json.dumps to make the dict a string, as required by model_from_json\n",
    "loaded_emb_model = init_embedding_model()\n",
    "loaded_emb_model.load_weights(embedding_weights_src)"
   ]
  },
  {
   "cell_type": "code",
   "execution_count": 19,
   "id": "9a12a544-f9de-4ba5-a994-b7708352055d",
   "metadata": {},
   "outputs": [
    {
     "name": "stdout",
     "output_type": "stream",
     "text": [
      "Same similarity tf.Tensor(0.7669841, shape=(), dtype=float32)\n",
      "Diff similarity tf.Tensor(0.61573076, shape=(), dtype=float32)\n"
     ]
    }
   ],
   "source": [
    "X_test_predicted = embedding_model.predict(X_test)\n",
    "\n",
    "same_sim, num_same = 0, 0\n",
    "classes = np.unique(Y_test)\n",
    "\n",
    "for c in classes:\n",
    "    X_to_test = [convert_to_binary_string(x) for i,x in enumerate(X_test_predicted) if Y_test[i] == c]\n",
    "    for i in range(len(X_to_test)-1):\n",
    "        dist = binary_distance(X_to_test[i], X_to_test[i+1])\n",
    "        same_sim += (1 - dist)\n",
    "        num_same += 1\n",
    "\n",
    "diff_sim, num_diff = 0, 0\n",
    "for i in range(len(classes)-1):\n",
    "    X1 = [convert_to_binary_string(x) for k,x in enumerate(X_test_predicted) if Y_test[k] == classes[i]]\n",
    "    X2 = [convert_to_binary_string(x) for k,x in enumerate(X_test_predicted) if Y_test[k] == classes[i+1]]\n",
    "    for j in range(min(len(X1),len(X2))):\n",
    "        dist = binary_distance(X1[j], X2[j])\n",
    "        diff_sim += (1 - dist)\n",
    "        num_diff += 1\n",
    "\n",
    "print('Same similarity', same_sim/num_same)\n",
    "print('Diff similarity', diff_sim/num_diff)"
   ]
  },
  {
   "cell_type": "code",
   "execution_count": 26,
   "id": "370be4f1",
   "metadata": {},
   "outputs": [
    {
     "name": "stdout",
     "output_type": "stream",
     "text": [
      "Same similarity tf.Tensor(0.76985127, shape=(), dtype=float32)\n",
      "Diff similarity tf.Tensor(0.58202666, shape=(), dtype=float32)\n"
     ]
    }
   ],
   "source": [
    "avg_same_sim, num_sim = 0, 0\n",
    "classes = np.unique(Y_test)\n",
    "\n",
    "for c in classes:\n",
    "    X_to_test = [convert_to_binary_string(x) for i,x in enumerate(X_test) if Y_test[i] == c]\n",
    "    for i in range(len(X_to_test)-1):\n",
    "        dist = binary_distance(X_to_test[i], X_to_test[i+1])\n",
    "        avg_same_sim += (1 - dist)\n",
    "        num_sim += 1\n",
    "\n",
    "avg_diff_sim, num_diff = 0, 0\n",
    "for i in range(len(classes)-1):\n",
    "    X1 = [convert_to_binary_string(x) for k,x in enumerate(X_test) if Y_test[k] == classes[i]]\n",
    "    X2 = [convert_to_binary_string(x) for k,x in enumerate(X_test) if Y_test[k] == classes[i+1]]\n",
    "    for j in range(min(len(X1),len(X2))):\n",
    "        dist = binary_distance(X1[j], X2[j])\n",
    "        avg_diff_sim += (1 - dist)\n",
    "        num_diff += 1\n",
    "\n",
    "print('Same similarity', avg_same_sim/num_sim)\n",
    "print('Diff similarity', avg_diff_sim/num_diff)"
   ]
  },
  {
   "cell_type": "code",
   "execution_count": null,
   "id": "072adcf7",
   "metadata": {},
   "outputs": [],
   "source": []
  }
 ],
 "metadata": {
  "kernelspec": {
   "display_name": "newest",
   "language": "python",
   "name": "newest"
  },
  "language_info": {
   "codemirror_mode": {
    "name": "ipython",
    "version": 3
   },
   "file_extension": ".py",
   "mimetype": "text/x-python",
   "name": "python",
   "nbconvert_exporter": "python",
   "pygments_lexer": "ipython3",
   "version": "3.10.4"
  }
 },
 "nbformat": 4,
 "nbformat_minor": 5
}
