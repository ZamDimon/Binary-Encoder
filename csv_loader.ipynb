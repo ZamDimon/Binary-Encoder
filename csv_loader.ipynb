{
 "cells": [
  {
   "cell_type": "markdown",
   "id": "d36dab99",
   "metadata": {},
   "source": [
    "## Step 1. Loading packages"
   ]
  },
  {
   "cell_type": "code",
   "execution_count": 1,
   "id": "f889cbdb",
   "metadata": {},
   "outputs": [
    {
     "name": "stderr",
     "output_type": "stream",
     "text": [
      "Using TensorFlow backend.\n"
     ]
    }
   ],
   "source": [
    "# Disable warnings\n",
    "import warnings\n",
    "warnings.filterwarnings(\"ignore\")\n",
    "\n",
    "# Import pyplot from matplotlib\n",
    "import matplotlib.pyplot as plt\n",
    "\n",
    "# Import TensorFlow image preprocessing \n",
    "from tensorflow.keras.preprocessing import image as image_preprocessing\n",
    "import tensorflow.keras.backend as tf_backend \n",
    "tf_backend.set_image_data_format('channels_last')\n",
    "\n",
    "# Importing fetch_lfw_people dataset from the sklearn.datasets package\n",
    "from sklearn.datasets import fetch_lfw_people\n",
    "\n",
    "# Import all other needed packages\n",
    "import os\n",
    "import csv\n",
    "import keras\n",
    "import numpy as np\n",
    "import pandas as pd\n",
    "import tensorflow as tf\n",
    "import cv2\n",
    "import face_recognition\n",
    "import glob\n",
    "from PIL import Image\n",
    "\n",
    "# Internal helper imports\n",
    "from internal.data.csv import CSV\n",
    "from internal.data.celeba import CelebaLoader\n",
    "from internal.converters.factory import ConverterType, ConverterFactory\n",
    "\n",
    "%matplotlib inline"
   ]
  },
  {
   "cell_type": "markdown",
   "id": "f55b323f",
   "metadata": {},
   "source": [
    "### Step 2. Load Labels\n",
    "\n",
    "Load set of image paths and labels. For example, $\\texttt{(000345.png, 25)}$ pair corresponds to an image with filename $\\texttt{000345.png}$ and person Id of $\\texttt{25}$"
   ]
  },
  {
   "cell_type": "code",
   "execution_count": 2,
   "id": "cb016b28",
   "metadata": {},
   "outputs": [],
   "source": [
    "# Specifying path to the images\n",
    "celeba_images_root = './images/celeb_faces/img_align_celeba'\n",
    "celeba_txt_path = './images/celeb_faces/identity_CelebA.txt'\n",
    "\n",
    "celeber = CelebaLoader(images_root=celeba_images_root,txt_path=celeba_txt_path)\n",
    "paths, labels = celeber.load()"
   ]
  },
  {
   "cell_type": "markdown",
   "id": "461481cd",
   "metadata": {},
   "source": [
    "### Step 3.1. Load Images to the CSV file via Face Recognition"
   ]
  },
  {
   "cell_type": "code",
   "execution_count": null,
   "id": "295e8e04",
   "metadata": {},
   "outputs": [],
   "source": [
    "csv_path = './csv_datasets/face_recognition_celeba_test.csv'\n",
    "csver = CSV(input_path=None, output_path=csv_path)\n",
    "\n",
    "facenet_converter = ConverterFactory(model=None).get_converter(converter=ConverterType.FACE_RECOGNITION)\n",
    "facenet_converter_function = facenet_converter.convert_to_feature_vector\n",
    "\n",
    "csver.load_csv(image_paths=paths, labels=labels, converter=facenet_converter_function, verbose=True)"
   ]
  },
  {
   "cell_type": "markdown",
   "id": "1e3d0578",
   "metadata": {},
   "source": [
    "### Step 3.2. Load Images to the CSV file via Keras Facenet"
   ]
  },
  {
   "cell_type": "code",
   "execution_count": 3,
   "id": "11eadcb7",
   "metadata": {},
   "outputs": [
    {
     "name": "stdout",
     "output_type": "stream",
     "text": [
      "WARNING:tensorflow:From /home/dima/.conda/envs/keras-facenet/lib/python3.6/site-packages/keras/backend/tensorflow_backend.py:4070: The name tf.nn.max_pool is deprecated. Please use tf.nn.max_pool2d instead.\n",
      "\n"
     ]
    }
   ],
   "source": [
    "# At first, loading the model\n",
    "model = keras.models.load_model('models/facenet_keras.h5', compile=False)"
   ]
  },
  {
   "cell_type": "code",
   "execution_count": null,
   "id": "7f524198",
   "metadata": {},
   "outputs": [
    {
     "name": "stdout",
     "output_type": "stream",
     "text": [
      "WARNING:tensorflow:From /home/dima/Projects/Machine Learning/Binary-Encoder/internal/converters/keras_facenet.py:36: The name tf.image.resize_images is deprecated. Please use tf.image.resize instead.\n",
      "\n",
      "WARNING:tensorflow:From /home/dima/.conda/envs/keras-facenet/lib/python3.6/site-packages/keras/backend/tensorflow_backend.py:422: The name tf.global_variables is deprecated. Please use tf.compat.v1.global_variables instead.\n",
      "\n",
      "Successfully processed 0 images\n",
      "Successfully processed 1000 images\n"
     ]
    }
   ],
   "source": [
    "csv_path = './csv_datasets/face_recognition_celeba_test.csv'\n",
    "csver = CSV(input_path=None, output_path=csv_path)\n",
    "\n",
    "facenet_converter = ConverterFactory(model=model).get_converter(converter=ConverterType.KERAS_FACENET)\n",
    "facenet_converter_function = facenet_converter.convert_to_feature_vector\n",
    "\n",
    "csver.load_csv(image_paths=paths, labels=labels, converter=facenet_converter_function, verbose=True)"
   ]
  }
 ],
 "metadata": {
  "kernelspec": {
   "display_name": "keras-facenet",
   "language": "python",
   "name": "keras-facenet"
  },
  "language_info": {
   "codemirror_mode": {
    "name": "ipython",
    "version": 3
   },
   "file_extension": ".py",
   "mimetype": "text/x-python",
   "name": "python",
   "nbconvert_exporter": "python",
   "pygments_lexer": "ipython3",
   "version": "3.6.2"
  }
 },
 "nbformat": 4,
 "nbformat_minor": 5
}
